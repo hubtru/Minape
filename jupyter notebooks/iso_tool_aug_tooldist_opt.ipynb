{
  "cells": [
    {
      "cell_type": "markdown",
      "id": "aacc9c79",
      "metadata": {
        "id": "aacc9c79"
      },
      "source": [
        "# Make sure to to set runtime to GPU to speed up hyperparameter optimization"
      ]
    },
    {
      "cell_type": "code",
      "execution_count": 1,
      "id": "a79902ea",
      "metadata": {
        "colab": {
          "base_uri": "https://localhost:8080/"
        },
        "id": "a79902ea",
        "outputId": "52896a30-8e62-473b-83b3-208c0ba45987",
        "vscode": {
          "languageId": "plaintext"
        }
      },
      "outputs": [
        {
          "name": "stdout",
          "output_type": "stream",
          "text": [
            "Collecting tensorflow_addons\n",
            "  Downloading tensorflow_addons-0.23.0-cp310-cp310-manylinux_2_17_x86_64.manylinux2014_x86_64.whl (611 kB)\n",
            "\u001b[2K     \u001b[90m━━━━━━━━━━━━━━━━━━━━━━━━━━━━━━━━━━━━━━━━\u001b[0m \u001b[32m611.8/611.8 kB\u001b[0m \u001b[31m5.5 MB/s\u001b[0m eta \u001b[36m0:00:00\u001b[0m\n",
            "\u001b[?25hRequirement already satisfied: packaging in /usr/local/lib/python3.10/dist-packages (from tensorflow_addons) (23.2)\n",
            "Collecting typeguard<3.0.0,>=2.7 (from tensorflow_addons)\n",
            "  Downloading typeguard-2.13.3-py3-none-any.whl (17 kB)\n",
            "Installing collected packages: typeguard, tensorflow_addons\n",
            "Successfully installed tensorflow_addons-0.23.0 typeguard-2.13.3\n",
            "Collecting keras-tuner\n",
            "  Downloading keras_tuner-1.4.6-py3-none-any.whl (128 kB)\n",
            "\u001b[2K     \u001b[90m━━━━━━━━━━━━━━━━━━━━━━━━━━━━━━━━━━━━━━━━\u001b[0m \u001b[32m128.9/128.9 kB\u001b[0m \u001b[31m1.3 MB/s\u001b[0m eta \u001b[36m0:00:00\u001b[0m\n",
            "\u001b[?25hRequirement already satisfied: keras in /usr/local/lib/python3.10/dist-packages (from keras-tuner) (2.15.0)\n",
            "Requirement already satisfied: packaging in /usr/local/lib/python3.10/dist-packages (from keras-tuner) (23.2)\n",
            "Requirement already satisfied: requests in /usr/local/lib/python3.10/dist-packages (from keras-tuner) (2.31.0)\n",
            "Collecting kt-legacy (from keras-tuner)\n",
            "  Downloading kt_legacy-1.0.5-py3-none-any.whl (9.6 kB)\n",
            "Requirement already satisfied: charset-normalizer<4,>=2 in /usr/local/lib/python3.10/dist-packages (from requests->keras-tuner) (3.3.2)\n",
            "Requirement already satisfied: idna<4,>=2.5 in /usr/local/lib/python3.10/dist-packages (from requests->keras-tuner) (3.6)\n",
            "Requirement already satisfied: urllib3<3,>=1.21.1 in /usr/local/lib/python3.10/dist-packages (from requests->keras-tuner) (2.0.7)\n",
            "Requirement already satisfied: certifi>=2017.4.17 in /usr/local/lib/python3.10/dist-packages (from requests->keras-tuner) (2023.11.17)\n",
            "Installing collected packages: kt-legacy, keras-tuner\n",
            "Successfully installed keras-tuner-1.4.6 kt-legacy-1.0.5\n",
            "Cloning into 'Minape'...\n",
            "remote: Enumerating objects: 131, done.\u001b[K\n",
            "remote: Counting objects: 100% (3/3), done.\u001b[K\n",
            "remote: Compressing objects: 100% (3/3), done.\u001b[K\n",
            "remote: Total 131 (delta 0), reused 3 (delta 0), pack-reused 128\u001b[K\n",
            "Receiving objects: 100% (131/131), 47.82 MiB | 15.53 MiB/s, done.\n",
            "Resolving deltas: 100% (5/5), done.\n"
          ]
        }
      ],
      "source": [
        "!pip install tensorflow_addons\n",
        "!pip install keras-tuner --upgrade\n",
        "\n",
        "# clone minape repository, refresh folder to see the minape repository\n",
        "# runtime -> change runtime -> choose gpu/tpu\n",
        "!git clone https://github.com/hubtru/Minape"
      ]
    },
    {
      "cell_type": "code",
      "execution_count": 2,
      "id": "49386885",
      "metadata": {
        "colab": {
          "base_uri": "https://localhost:8080/"
        },
        "id": "49386885",
        "outputId": "686a991b-0798-46a8-a9aa-407868a650a7"
      },
      "outputs": [
        {
          "name": "stderr",
          "output_type": "stream",
          "text": [
            "/usr/local/lib/python3.10/dist-packages/tensorflow_addons/utils/tfa_eol_msg.py:23: UserWarning: \n",
            "\n",
            "TensorFlow Addons (TFA) has ended development and introduction of new features.\n",
            "TFA has entered a minimal maintenance and release mode until a planned end of life in May 2024.\n",
            "Please modify downstream libraries to take dependencies from other repositories in our TensorFlow community (e.g. Keras, Keras-CV, and Keras-NLP). \n",
            "\n",
            "For more information see: https://github.com/tensorflow/addons/issues/2807 \n",
            "\n",
            "  warnings.warn(\n"
          ]
        }
      ],
      "source": [
        "import pandas as pd\n",
        "import numpy as np\n",
        "from matplotlib import pyplot as plt\n",
        "import seaborn as sns\n",
        "import cv2\n",
        "import os\n",
        "\n",
        "import tensorflow as tf\n",
        "from tensorflow import keras as k\n",
        "from tensorflow.keras import layers\n",
        "from tensorflow.keras import optimizers\n",
        "from tensorflow.keras.utils import to_categorical\n",
        "from tensorflow.keras.utils import array_to_img\n",
        "from tensorflow.keras.layers import Input, Dense, Flatten, Dropout, Conv2D, MaxPooling2D, GlobalAveragePooling2D, Activation, concatenate\n",
        "from tensorflow.keras.layers import LeakyReLU\n",
        "from tensorflow.keras.layers import BatchNormalization\n",
        "from tensorflow.keras.models import Model\n",
        "from tensorflow.keras.callbacks import ModelCheckpoint, ReduceLROnPlateau\n",
        "import tensorflow_addons as tfa\n",
        "import keras_tuner\n",
        "\n",
        "os.environ[\"CUDA_VISIBLE_DEVICES\"]=\"0\""
      ]
    },
    {
      "cell_type": "code",
      "execution_count": 3,
      "id": "8832bdbd",
      "metadata": {
        "id": "8832bdbd"
      },
      "outputs": [],
      "source": [
        "#Variables\n",
        "image_size = 256\n",
        "in_channel_tool = 3\n",
        "num_classes = 3\n",
        "learning_rate = 0.001\n",
        "weight_decay = 0.0001\n",
        "batch_size = 40\n",
        "num_epochs = 100"
      ]
    },
    {
      "cell_type": "code",
      "execution_count": 4,
      "id": "aa3e3c4c",
      "metadata": {
        "id": "aa3e3c4c"
      },
      "outputs": [],
      "source": [
        "#Functions\n",
        "#Multimodal implementation of Trockman, A., & Kolter, J. Z. (2022). Patches are all you need?.\n",
        "#https://github.com/locuslab/convmixer\n",
        "#Convert images to numpy array\n",
        "\n",
        "def read_tools(file_paths, image_size, channels):\n",
        "  images = []\n",
        "\n",
        "  for file_path in file_paths:\n",
        "    img = cv2.imread(file_path)\n",
        "    res = cv2.resize(img, dsize=(image_size, image_size), interpolation=cv2.INTER_CUBIC)\n",
        "    images.append(res)\n",
        "\n",
        "  images = np.asarray(images, dtype=np.float32)\n",
        "\n",
        "  # normalize\n",
        "  images = images / np.max(images)\n",
        "\n",
        "  # reshape to match Keras expectaions\n",
        "  images = images.reshape(images.shape[0], image_size, image_size, channels)\n",
        "\n",
        "  return images\n",
        "\n",
        "#Patch dataset\n",
        "\n",
        "def generate_datasets(images, is_train=False):\n",
        "    dataset = images\n",
        "    if is_train:\n",
        "        dataset = dataset.shuffle(batch_size * 10)\n",
        "    dataset = dataset.batch(batch_size)\n",
        "    if is_train:\n",
        "        dataset = dataset.map(\n",
        "            lambda x, y: (data_augmentation(x), y), num_parallel_calls=auto\n",
        "        )\n",
        "    return dataset.prefetch(auto)\n",
        "\n",
        "#Model creation methods\n",
        "\n",
        "def activation_module(x):\n",
        "    x = layers.Activation(\"gelu\")(x)\n",
        "    return layers.BatchNormalization()(x)\n",
        "\n",
        "\n",
        "def base_module(x, filters, patch_size):\n",
        "    x = layers.Conv2D(filters, kernel_size=patch_size, strides=patch_size)(x)\n",
        "    return activation_module(x)\n",
        "\n",
        "\n",
        "def multi_mixer_module(x, filters, kernel_size):\n",
        "    # Depthwise convolution.\n",
        "    x0 = x\n",
        "    x = layers.DepthwiseConv2D(kernel_size=kernel_size, padding=\"same\")(x)\n",
        "    x = layers.Add()([activation_module(x), x0])  # Residual.\n",
        "\n",
        "    # Pointwise convolution.\n",
        "    x = layers.Conv2D(filters, kernel_size=1)(x)\n",
        "    x = activation_module(x)\n",
        "\n",
        "    return x\n",
        "\n",
        "\n",
        "def load_multi_mixer(hp):\n",
        "\n",
        "    filters=hp.Int(\"filters\", min_value=128, max_value=512, step=128)\n",
        "    depth=hp.Int(\"depth\", min_value=4, max_value=8, step=4)\n",
        "    kernel_size=hp.Int(\"kernel_size\", min_value=3, max_value=9, step=1)\n",
        "    patch_size=hp.Int(\"patch_size\", min_value=4, max_value=32, step=4)\n",
        "\n",
        "    inputs = k.Input((image_size, image_size, in_channel_tool))\n",
        "    x = layers.Rescaling(scale=1.0 / 255)(inputs)\n",
        "\n",
        "    # Extract patch embeddings.\n",
        "    x = base_module(x, filters, patch_size)\n",
        "\n",
        "    # Multi_mixer modul.\n",
        "    for _ in range(depth):\n",
        "        x = multi_mixer_module(x, filters, kernel_size)\n",
        "\n",
        "    # Classification block.\n",
        "    x = layers.GlobalAvgPool2D()(x)\n",
        "    outputs = layers.Dense(num_classes, activation=\"softmax\")(x)\n",
        "\n",
        "    model = k.Model(inputs, outputs)\n",
        "\n",
        "    optimizer = tfa.optimizers.AdamW(\n",
        "        learning_rate=learning_rate, weight_decay=weight_decay\n",
        "    )\n",
        "\n",
        "    model.compile(\n",
        "        optimizer=optimizer,\n",
        "        loss=\"sparse_categorical_crossentropy\",\n",
        "        metrics=[\"accuracy\"],\n",
        "    )\n",
        "\n",
        "    return model\n",
        "\n",
        "#Run experiment\n",
        "\n",
        "def launch_experiment(model):\n",
        "    optimizer = tfa.optimizers.AdamW(\n",
        "        learning_rate=learning_rate, weight_decay=weight_decay\n",
        "    )\n",
        "\n",
        "    model.compile(\n",
        "        optimizer=optimizer,\n",
        "        loss=\"sparse_categorical_crossentropy\",\n",
        "        metrics=[\"accuracy\"],\n",
        "    )\n",
        "\n",
        "    checkpoint_filepath = \"/tmp/checkpoint\"\n",
        "    checkpoint_callback = k.callbacks.ModelCheckpoint(\n",
        "        checkpoint_filepath,\n",
        "        monitor=\"val_accuracy\",\n",
        "        save_best_only=True,\n",
        "        save_weights_only=True,\n",
        "    )\n",
        "\n",
        "    history = model.fit(\n",
        "        new_train_dataset,\n",
        "        validation_data=new_val_dataset,\n",
        "        epochs=num_epochs,\n",
        "        shuffle=True,\n",
        "        callbacks=[checkpoint_callback],\n",
        "    )\n",
        "\n",
        "    model.load_weights(checkpoint_filepath)\n",
        "    _, accuracy = model.evaluate(new_test_dataset)\n",
        "    print(f\"Test accuracy: {round(accuracy * 100, 2)}%\")\n",
        "\n",
        "    return history, model"
      ]
    },
    {
      "cell_type": "code",
      "execution_count": 5,
      "id": "ef84249d",
      "metadata": {
        "id": "ef84249d"
      },
      "outputs": [],
      "source": [
        "#Dataset acquisition\n",
        "\n",
        "data_path = '/content/Minape/Data/labels_aug/random_distribution'\n",
        "train_df = pd.read_csv(f'{data_path}/train.csv', index_col=0)\n",
        "test_df = pd.read_csv(f'{data_path}/test.csv', index_col=0)\n",
        "val_df = pd.read_csv(f'{data_path}/val.csv', index_col=0)\n",
        "\n",
        "tool_path = '/content/Minape/Data/dataset_aug/tool'\n",
        "train_df['tool'] = train_df.index.map(lambda id: f'{tool_path}/{id}.jpg')\n",
        "test_df['tool'] = test_df.index.map(lambda id: f'{tool_path}/{id}.jpg')\n",
        "val_df['tool'] = val_df.index.map(lambda id: f'{tool_path}/{id}.jpg')"
      ]
    },
    {
      "cell_type": "code",
      "execution_count": 6,
      "id": "ec997d9d",
      "metadata": {
        "colab": {
          "base_uri": "https://localhost:8080/",
          "height": 546
        },
        "id": "ec997d9d",
        "outputId": "3f1f1cb6-ab45-40a8-bf09-a3ca405ece95"
      },
      "outputs": [
        {
          "data": {
            "text/plain": [
              "<Figure size 600x600 with 0 Axes>"
            ]
          },
          "metadata": {},
          "output_type": "display_data"
        },
        {
          "data": {
            "image/png": "[encoded data removed]",
            "text/plain": [
              "<Figure size 500x500 with 1 Axes>"
            ]
          },
          "metadata": {},
          "output_type": "display_data"
        }
      ],
      "source": [
        "#Plot dataset distribution\n",
        "plt.figure(figsize=(6,6))\n",
        "sns.displot(train_df['tool_label'])\n",
        "plt.title('Label Distribution')\n",
        "plt.show()"
      ]
    },
    {
      "cell_type": "code",
      "execution_count": 7,
      "id": "3ce2268d",
      "metadata": {
        "id": "3ce2268d"
      },
      "outputs": [],
      "source": [
        "#Read tool images and convert them to NumPy array\n",
        "x_train_tool = read_tools(train_df.tool.values, image_size, in_channel_tool)\n",
        "x_test_tool = read_tools(test_df.tool.values, image_size, in_channel_tool)\n",
        "x_val_tool = read_tools(val_df.tool.values, image_size, in_channel_tool)\n",
        "#Bring the labels to an acceptable form\n",
        "labels_train = train_df.tool_label.values - 1\n",
        "labels_test = test_df.tool_label.values - 1\n",
        "labels_val = val_df.tool_label.values - 1"
      ]
    },
    {
      "cell_type": "code",
      "execution_count": 8,
      "id": "babda7f8",
      "metadata": {
        "id": "babda7f8"
      },
      "outputs": [],
      "source": [
        "#Create tensorflow datasets objects and add patch embedding to train dataset\n",
        "train_dataset = tf.data.Dataset.from_tensor_slices((x_train_tool, labels_train))\n",
        "test_dataset = tf.data.Dataset.from_tensor_slices((x_test_tool, labels_test))\n",
        "val_dataset = tf.data.Dataset.from_tensor_slices((x_val_tool, labels_val))\n",
        "train_dataset = train_dataset.shuffle(x_train_tool.shape[0], seed=777)\n",
        "\n",
        "auto = tf.data.AUTOTUNE\n",
        "\n",
        "data_augmentation = k.Sequential(\n",
        "    [layers.RandomCrop(image_size, image_size), k.layers.RandomFlip(\"horizontal\"),],\n",
        "    name=\"data_augmentation\",\n",
        ")\n",
        "\n",
        "new_train_dataset = generate_datasets(train_dataset, is_train=True)\n",
        "new_val_dataset = generate_datasets(val_dataset)\n",
        "new_test_dataset = generate_datasets(test_dataset)"
      ]
    },
    {
      "cell_type": "code",
      "execution_count": 9,
      "id": "f9050892",
      "metadata": {
        "colab": {
          "base_uri": "https://localhost:8080/"
        },
        "id": "f9050892",
        "outputId": "fc9ed3ac-f24c-4b9f-ea41-80b0d73b5681"
      },
      "outputs": [
        {
          "name": "stdout",
          "output_type": "stream",
          "text": [
            "Trial 10 Complete [00h 03m 46s]\n",
            "val_accuracy: 0.3333333432674408\n",
            "\n",
            "Best val_accuracy So Far: 0.6666666865348816\n",
            "Total elapsed time: 00h 25m 09s\n"
          ]
        }
      ],
      "source": [
        "#Multi_mixer model architecture optimization\n",
        "hp = keras_tuner.HyperParameters()\n",
        "\n",
        "tuner = keras_tuner.RandomSearch(\n",
        "    hypermodel=load_multi_mixer,\n",
        "    objective=\"val_accuracy\",\n",
        "    max_trials=10, # change number of trials here\n",
        "    seed=None,\n",
        "    hyperparameters=None,\n",
        "    tune_new_entries=True,\n",
        "    allow_new_entries=True,\n",
        "    overwrite=True,\n",
        "    project_name=\"tool_opt\"\n",
        ")\n",
        "\n",
        "history_opt = tuner.search(\n",
        "        new_train_dataset,\n",
        "        epochs=num_epochs,\n",
        "        shuffle=True,\n",
        "        validation_data=new_val_dataset\n",
        "    )"
      ]
    },
    {
      "cell_type": "code",
      "execution_count": 10,
      "id": "19b8528f",
      "metadata": {
        "colab": {
          "base_uri": "https://localhost:8080/"
        },
        "id": "19b8528f",
        "outputId": "2a60b6f1-6ec6-4b41-d174-50dc66314d51"
      },
      "outputs": [
        {
          "name": "stdout",
          "output_type": "stream",
          "text": [
            "Search space summary\n",
            "Default search space size: 4\n",
            "filters (Int)\n",
            "{'default': None, 'conditions': [], 'min_value': 128, 'max_value': 512, 'step': 128, 'sampling': 'linear'}\n",
            "depth (Int)\n",
            "{'default': None, 'conditions': [], 'min_value': 4, 'max_value': 8, 'step': 4, 'sampling': 'linear'}\n",
            "kernel_size (Int)\n",
            "{'default': None, 'conditions': [], 'min_value': 3, 'max_value': 9, 'step': 1, 'sampling': 'linear'}\n",
            "patch_size (Int)\n",
            "{'default': None, 'conditions': [], 'min_value': 4, 'max_value': 32, 'step': 4, 'sampling': 'linear'}\n"
          ]
        }
      ],
      "source": [
        "#Optimization summary #1\n",
        "tuner.search_space_summary()"
      ]
    },
    {
      "cell_type": "code",
      "execution_count": 11,
      "id": "86817767",
      "metadata": {
        "colab": {
          "base_uri": "https://localhost:8080/"
        },
        "id": "86817767",
        "outputId": "3e9203e7-6a1d-4efa-ed33-c03bafd14061"
      },
      "outputs": [
        {
          "name": "stdout",
          "output_type": "stream",
          "text": [
            "Results summary\n",
            "Results in ./tool_opt\n",
            "Showing 10 best trials\n",
            "Objective(name=\"val_accuracy\", direction=\"max\")\n",
            "\n",
            "Trial 06 summary\n",
            "Hyperparameters:\n",
            "filters: 512\n",
            "depth: 4\n",
            "kernel_size: 8\n",
            "patch_size: 28\n",
            "Score: 0.6666666865348816\n",
            "\n",
            "Trial 07 summary\n",
            "Hyperparameters:\n",
            "filters: 512\n",
            "depth: 4\n",
            "kernel_size: 4\n",
            "patch_size: 24\n",
            "Score: 0.6666666865348816\n",
            "\n",
            "Trial 00 summary\n",
            "Hyperparameters:\n",
            "filters: 256\n",
            "depth: 8\n",
            "kernel_size: 5\n",
            "patch_size: 8\n",
            "Score: 0.3333333432674408\n",
            "\n",
            "Trial 01 summary\n",
            "Hyperparameters:\n",
            "filters: 384\n",
            "depth: 4\n",
            "kernel_size: 3\n",
            "patch_size: 28\n",
            "Score: 0.3333333432674408\n",
            "\n",
            "Trial 02 summary\n",
            "Hyperparameters:\n",
            "filters: 384\n",
            "depth: 4\n",
            "kernel_size: 6\n",
            "patch_size: 28\n",
            "Score: 0.3333333432674408\n",
            "\n",
            "Trial 03 summary\n",
            "Hyperparameters:\n",
            "filters: 384\n",
            "depth: 4\n",
            "kernel_size: 6\n",
            "patch_size: 24\n",
            "Score: 0.3333333432674408\n",
            "\n",
            "Trial 04 summary\n",
            "Hyperparameters:\n",
            "filters: 256\n",
            "depth: 8\n",
            "kernel_size: 7\n",
            "patch_size: 32\n",
            "Score: 0.3333333432674408\n",
            "\n",
            "Trial 05 summary\n",
            "Hyperparameters:\n",
            "filters: 128\n",
            "depth: 4\n",
            "kernel_size: 8\n",
            "patch_size: 20\n",
            "Score: 0.3333333432674408\n",
            "\n",
            "Trial 08 summary\n",
            "Hyperparameters:\n",
            "filters: 256\n",
            "depth: 8\n",
            "kernel_size: 4\n",
            "patch_size: 12\n",
            "Score: 0.3333333432674408\n",
            "\n",
            "Trial 09 summary\n",
            "Hyperparameters:\n",
            "filters: 128\n",
            "depth: 8\n",
            "kernel_size: 3\n",
            "patch_size: 8\n",
            "Score: 0.3333333432674408\n"
          ]
        }
      ],
      "source": [
        "#Optimization summary #2\n",
        "tuner.results_summary()"
      ]
    },
    {
      "cell_type": "code",
      "execution_count": 12,
      "id": "d840e9b1",
      "metadata": {
        "colab": {
          "base_uri": "https://localhost:8080/"
        },
        "id": "d840e9b1",
        "outputId": "a300b0f1-e71f-4a7c-a9c4-0098f5dc4f71"
      },
      "outputs": [
        {
          "name": "stdout",
          "output_type": "stream",
          "text": [
            "Model: \"model\"\n",
            "__________________________________________________________________________________________________\n",
            " Layer (type)                Output Shape                 Param #   Connected to                  \n",
            "==================================================================================================\n",
            " input_1 (InputLayer)        [(None, 256, 256, 3)]        0         []                            \n",
            "                                                                                                  \n",
            " rescaling (Rescaling)       (None, 256, 256, 3)          0         ['input_1[0][0]']             \n",
            "                                                                                                  \n",
            " conv2d (Conv2D)             (None, 9, 9, 512)            1204736   ['rescaling[0][0]']           \n",
            "                                                                                                  \n",
            " activation (Activation)     (None, 9, 9, 512)            0         ['conv2d[0][0]']              \n",
            "                                                                                                  \n",
            " batch_normalization (Batch  (None, 9, 9, 512)            2048      ['activation[0][0]']          \n",
            " Normalization)                                                                                   \n",
            "                                                                                                  \n",
            " depthwise_conv2d (Depthwis  (None, 9, 9, 512)            33280     ['batch_normalization[0][0]'] \n",
            " eConv2D)                                                                                         \n",
            "                                                                                                  \n",
            " activation_1 (Activation)   (None, 9, 9, 512)            0         ['depthwise_conv2d[0][0]']    \n",
            "                                                                                                  \n",
            " batch_normalization_1 (Bat  (None, 9, 9, 512)            2048      ['activation_1[0][0]']        \n",
            " chNormalization)                                                                                 \n",
            "                                                                                                  \n",
            " add (Add)                   (None, 9, 9, 512)            0         ['batch_normalization_1[0][0]'\n",
            "                                                                    , 'batch_normalization[0][0]']\n",
            "                                                                                                  \n",
            " conv2d_1 (Conv2D)           (None, 9, 9, 512)            262656    ['add[0][0]']                 \n",
            "                                                                                                  \n",
            " activation_2 (Activation)   (None, 9, 9, 512)            0         ['conv2d_1[0][0]']            \n",
            "                                                                                                  \n",
            " batch_normalization_2 (Bat  (None, 9, 9, 512)            2048      ['activation_2[0][0]']        \n",
            " chNormalization)                                                                                 \n",
            "                                                                                                  \n",
            " depthwise_conv2d_1 (Depthw  (None, 9, 9, 512)            33280     ['batch_normalization_2[0][0]'\n",
            " iseConv2D)                                                         ]                             \n",
            "                                                                                                  \n",
            " activation_3 (Activation)   (None, 9, 9, 512)            0         ['depthwise_conv2d_1[0][0]']  \n",
            "                                                                                                  \n",
            " batch_normalization_3 (Bat  (None, 9, 9, 512)            2048      ['activation_3[0][0]']        \n",
            " chNormalization)                                                                                 \n",
            "                                                                                                  \n",
            " add_1 (Add)                 (None, 9, 9, 512)            0         ['batch_normalization_3[0][0]'\n",
            "                                                                    , 'batch_normalization_2[0][0]\n",
            "                                                                    ']                            \n",
            "                                                                                                  \n",
            " conv2d_2 (Conv2D)           (None, 9, 9, 512)            262656    ['add_1[0][0]']               \n",
            "                                                                                                  \n",
            " activation_4 (Activation)   (None, 9, 9, 512)            0         ['conv2d_2[0][0]']            \n",
            "                                                                                                  \n",
            " batch_normalization_4 (Bat  (None, 9, 9, 512)            2048      ['activation_4[0][0]']        \n",
            " chNormalization)                                                                                 \n",
            "                                                                                                  \n",
            " depthwise_conv2d_2 (Depthw  (None, 9, 9, 512)            33280     ['batch_normalization_4[0][0]'\n",
            " iseConv2D)                                                         ]                             \n",
            "                                                                                                  \n",
            " activation_5 (Activation)   (None, 9, 9, 512)            0         ['depthwise_conv2d_2[0][0]']  \n",
            "                                                                                                  \n",
            " batch_normalization_5 (Bat  (None, 9, 9, 512)            2048      ['activation_5[0][0]']        \n",
            " chNormalization)                                                                                 \n",
            "                                                                                                  \n",
            " add_2 (Add)                 (None, 9, 9, 512)            0         ['batch_normalization_5[0][0]'\n",
            "                                                                    , 'batch_normalization_4[0][0]\n",
            "                                                                    ']                            \n",
            "                                                                                                  \n",
            " conv2d_3 (Conv2D)           (None, 9, 9, 512)            262656    ['add_2[0][0]']               \n",
            "                                                                                                  \n",
            " activation_6 (Activation)   (None, 9, 9, 512)            0         ['conv2d_3[0][0]']            \n",
            "                                                                                                  \n",
            " batch_normalization_6 (Bat  (None, 9, 9, 512)            2048      ['activation_6[0][0]']        \n",
            " chNormalization)                                                                                 \n",
            "                                                                                                  \n",
            " depthwise_conv2d_3 (Depthw  (None, 9, 9, 512)            33280     ['batch_normalization_6[0][0]'\n",
            " iseConv2D)                                                         ]                             \n",
            "                                                                                                  \n",
            " activation_7 (Activation)   (None, 9, 9, 512)            0         ['depthwise_conv2d_3[0][0]']  \n",
            "                                                                                                  \n",
            " batch_normalization_7 (Bat  (None, 9, 9, 512)            2048      ['activation_7[0][0]']        \n",
            " chNormalization)                                                                                 \n",
            "                                                                                                  \n",
            " add_3 (Add)                 (None, 9, 9, 512)            0         ['batch_normalization_7[0][0]'\n",
            "                                                                    , 'batch_normalization_6[0][0]\n",
            "                                                                    ']                            \n",
            "                                                                                                  \n",
            " conv2d_4 (Conv2D)           (None, 9, 9, 512)            262656    ['add_3[0][0]']               \n",
            "                                                                                                  \n",
            " activation_8 (Activation)   (None, 9, 9, 512)            0         ['conv2d_4[0][0]']            \n",
            "                                                                                                  \n",
            " batch_normalization_8 (Bat  (None, 9, 9, 512)            2048      ['activation_8[0][0]']        \n",
            " chNormalization)                                                                                 \n",
            "                                                                                                  \n",
            " global_average_pooling2d (  (None, 512)                  0         ['batch_normalization_8[0][0]'\n",
            " GlobalAveragePooling2D)                                            ]                             \n",
            "                                                                                                  \n",
            " dense (Dense)               (None, 3)                    1539      ['global_average_pooling2d[0][\n",
            "                                                                    0]']                          \n",
            "                                                                                                  \n",
            "==================================================================================================\n",
            "Total params: 2408451 (9.19 MB)\n",
            "Trainable params: 2399235 (9.15 MB)\n",
            "Non-trainable params: 9216 (36.00 KB)\n",
            "__________________________________________________________________________________________________\n"
          ]
        }
      ],
      "source": [
        "#Choose the best model based on architecture optimization\n",
        "models = tuner.get_best_models(num_models=2)\n",
        "best_model = models[0]\n",
        "best_model.build(input_shape=(image_size, image_size, in_channel_tool))\n",
        "best_model.summary()"
      ]
    },
    {
      "cell_type": "code",
      "execution_count": 13,
      "id": "b0d08b81",
      "metadata": {
        "id": "b0d08b81"
      },
      "outputs": [],
      "source": [
        "#Choose the best hyperparameters\n",
        "best_hps = tuner.get_best_hyperparameters(5)\n",
        "model = load_multi_mixer(best_hps[0])"
      ]
    },
    {
      "cell_type": "code",
      "execution_count": 14,
      "id": "0b0524bb",
      "metadata": {
        "colab": {
          "base_uri": "https://localhost:8080/"
        },
        "id": "0b0524bb",
        "outputId": "c585f747-46f7-4cf5-e469-aecf2b743756"
      },
      "outputs": [
        {
          "name": "stdout",
          "output_type": "stream",
          "text": [
            "Epoch 1/100\n",
            "1/1 [==============================] - 4s 4s/step - loss: 1.3085 - accuracy: 0.2000 - val_loss: 1.0986 - val_accuracy: 0.3333\n",
            "Epoch 2/100\n",
            "1/1 [==============================] - 1s 754ms/step - loss: 0.6735 - accuracy: 0.8000 - val_loss: 1.0991 - val_accuracy: 0.3333\n",
            "Epoch 3/100\n",
            "1/1 [==============================] - 1s 949ms/step - loss: 0.6432 - accuracy: 0.7333 - val_loss: 1.0995 - val_accuracy: 0.3333\n",
            "Epoch 4/100\n",
            "1/1 [==============================] - 1s 1s/step - loss: 0.2226 - accuracy: 0.9333 - val_loss: 1.1002 - val_accuracy: 0.3333\n",
            "Epoch 5/100\n",
            "1/1 [==============================] - 1s 860ms/step - loss: 0.2147 - accuracy: 0.9333 - val_loss: 1.1012 - val_accuracy: 0.3333\n",
            "Epoch 6/100\n",
            "1/1 [==============================] - 1s 722ms/step - loss: 0.0699 - accuracy: 1.0000 - val_loss: 1.1019 - val_accuracy: 0.3333\n",
            "Epoch 7/100\n",
            "1/1 [==============================] - 1s 711ms/step - loss: 0.0259 - accuracy: 1.0000 - val_loss: 1.1027 - val_accuracy: 0.3333\n",
            "Epoch 8/100\n",
            "1/1 [==============================] - 1s 744ms/step - loss: 0.0078 - accuracy: 1.0000 - val_loss: 1.1038 - val_accuracy: 0.3333\n",
            "Epoch 9/100\n",
            "1/1 [==============================] - 1s 731ms/step - loss: 0.0051 - accuracy: 1.0000 - val_loss: 1.1050 - val_accuracy: 0.3333\n",
            "Epoch 10/100\n",
            "1/1 [==============================] - 1s 716ms/step - loss: 0.0083 - accuracy: 1.0000 - val_loss: 1.1064 - val_accuracy: 0.3333\n",
            "Epoch 11/100\n",
            "1/1 [==============================] - 1s 718ms/step - loss: 0.0058 - accuracy: 1.0000 - val_loss: 1.1080 - val_accuracy: 0.3333\n",
            "Epoch 12/100\n",
            "1/1 [==============================] - 1s 715ms/step - loss: 0.0023 - accuracy: 1.0000 - val_loss: 1.1097 - val_accuracy: 0.3333\n",
            "Epoch 13/100\n",
            "1/1 [==============================] - 1s 715ms/step - loss: 0.0015 - accuracy: 1.0000 - val_loss: 1.1116 - val_accuracy: 0.3333\n",
            "Epoch 14/100\n",
            "1/1 [==============================] - 1s 739ms/step - loss: 0.0101 - accuracy: 1.0000 - val_loss: 1.1136 - val_accuracy: 0.3333\n",
            "Epoch 15/100\n",
            "1/1 [==============================] - 1s 1s/step - loss: 0.0023 - accuracy: 1.0000 - val_loss: 1.1159 - val_accuracy: 0.3333\n",
            "Epoch 16/100\n",
            "1/1 [==============================] - 1s 780ms/step - loss: 0.0017 - accuracy: 1.0000 - val_loss: 1.1183 - val_accuracy: 0.3333\n",
            "Epoch 17/100\n",
            "1/1 [==============================] - 1s 697ms/step - loss: 0.0026 - accuracy: 1.0000 - val_loss: 1.1209 - val_accuracy: 0.3333\n",
            "Epoch 18/100\n",
            "1/1 [==============================] - 1s 735ms/step - loss: 0.0014 - accuracy: 1.0000 - val_loss: 1.1235 - val_accuracy: 0.3333\n",
            "Epoch 19/100\n",
            "1/1 [==============================] - 1s 728ms/step - loss: 0.0025 - accuracy: 1.0000 - val_loss: 1.1262 - val_accuracy: 0.3333\n",
            "Epoch 20/100\n",
            "1/1 [==============================] - 1s 694ms/step - loss: 0.0028 - accuracy: 1.0000 - val_loss: 1.1289 - val_accuracy: 0.3333\n",
            "Epoch 21/100\n",
            "1/1 [==============================] - 1s 723ms/step - loss: 0.0015 - accuracy: 1.0000 - val_loss: 1.1315 - val_accuracy: 0.3333\n",
            "Epoch 22/100\n",
            "1/1 [==============================] - 1s 726ms/step - loss: 0.0011 - accuracy: 1.0000 - val_loss: 1.1342 - val_accuracy: 0.3333\n",
            "Epoch 23/100\n",
            "1/1 [==============================] - 1s 729ms/step - loss: 7.2475e-04 - accuracy: 1.0000 - val_loss: 1.1367 - val_accuracy: 0.3333\n",
            "Epoch 24/100\n",
            "1/1 [==============================] - 1s 701ms/step - loss: 6.1556e-04 - accuracy: 1.0000 - val_loss: 1.1392 - val_accuracy: 0.3333\n",
            "Epoch 25/100\n",
            "1/1 [==============================] - 1s 782ms/step - loss: 3.3787e-04 - accuracy: 1.0000 - val_loss: 1.1416 - val_accuracy: 0.3333\n",
            "Epoch 26/100\n",
            "1/1 [==============================] - 1s 1s/step - loss: 4.2157e-04 - accuracy: 1.0000 - val_loss: 1.1441 - val_accuracy: 0.3333\n",
            "Epoch 27/100\n",
            "1/1 [==============================] - 1s 1s/step - loss: 3.5606e-04 - accuracy: 1.0000 - val_loss: 1.1464 - val_accuracy: 0.3333\n",
            "Epoch 28/100\n",
            "1/1 [==============================] - 1s 727ms/step - loss: 2.1317e-04 - accuracy: 1.0000 - val_loss: 1.1486 - val_accuracy: 0.3333\n",
            "Epoch 29/100\n",
            "1/1 [==============================] - 1s 743ms/step - loss: 1.9011e-04 - accuracy: 1.0000 - val_loss: 1.1508 - val_accuracy: 0.3333\n",
            "Epoch 30/100\n",
            "1/1 [==============================] - 1s 733ms/step - loss: 1.7037e-04 - accuracy: 1.0000 - val_loss: 1.1529 - val_accuracy: 0.3333\n",
            "Epoch 31/100\n",
            "1/1 [==============================] - 1s 772ms/step - loss: 1.6129e-04 - accuracy: 1.0000 - val_loss: 1.1550 - val_accuracy: 0.3333\n",
            "Epoch 32/100\n",
            "1/1 [==============================] - 1s 752ms/step - loss: 1.3422e-04 - accuracy: 1.0000 - val_loss: 1.1569 - val_accuracy: 0.3333\n",
            "Epoch 33/100\n",
            "1/1 [==============================] - 1s 743ms/step - loss: 1.5050e-04 - accuracy: 1.0000 - val_loss: 1.1588 - val_accuracy: 0.3333\n",
            "Epoch 34/100\n",
            "1/1 [==============================] - 1s 726ms/step - loss: 1.0838e-04 - accuracy: 1.0000 - val_loss: 1.1606 - val_accuracy: 0.3333\n",
            "Epoch 35/100\n",
            "1/1 [==============================] - 1s 710ms/step - loss: 1.2278e-04 - accuracy: 1.0000 - val_loss: 1.1622 - val_accuracy: 0.3333\n",
            "Epoch 36/100\n",
            "1/1 [==============================] - 1s 732ms/step - loss: 1.1196e-04 - accuracy: 1.0000 - val_loss: 1.1639 - val_accuracy: 0.3333\n",
            "Epoch 37/100\n",
            "1/1 [==============================] - 1s 698ms/step - loss: 1.1206e-04 - accuracy: 1.0000 - val_loss: 1.1653 - val_accuracy: 0.3333\n",
            "Epoch 38/100\n",
            "1/1 [==============================] - 1s 769ms/step - loss: 1.0327e-04 - accuracy: 1.0000 - val_loss: 1.1668 - val_accuracy: 0.3333\n",
            "Epoch 39/100\n",
            "1/1 [==============================] - 1s 1s/step - loss: 9.6227e-05 - accuracy: 1.0000 - val_loss: 1.1682 - val_accuracy: 0.3333\n",
            "Epoch 40/100\n",
            "1/1 [==============================] - 1s 1s/step - loss: 8.0550e-05 - accuracy: 1.0000 - val_loss: 1.1694 - val_accuracy: 0.3333\n",
            "Epoch 41/100\n",
            "1/1 [==============================] - 1s 705ms/step - loss: 8.0264e-05 - accuracy: 1.0000 - val_loss: 1.1706 - val_accuracy: 0.3333\n",
            "Epoch 42/100\n",
            "1/1 [==============================] - 1s 701ms/step - loss: 7.6141e-05 - accuracy: 1.0000 - val_loss: 1.1718 - val_accuracy: 0.3333\n",
            "Epoch 43/100\n",
            "1/1 [==============================] - 1s 709ms/step - loss: 6.1831e-05 - accuracy: 1.0000 - val_loss: 1.1728 - val_accuracy: 0.3333\n",
            "Epoch 44/100\n",
            "1/1 [==============================] - 1s 699ms/step - loss: 8.1889e-05 - accuracy: 1.0000 - val_loss: 1.1737 - val_accuracy: 0.3333\n",
            "Epoch 45/100\n",
            "1/1 [==============================] - 1s 725ms/step - loss: 6.3047e-05 - accuracy: 1.0000 - val_loss: 1.1746 - val_accuracy: 0.3333\n",
            "Epoch 46/100\n",
            "1/1 [==============================] - 1s 715ms/step - loss: 6.5741e-05 - accuracy: 1.0000 - val_loss: 1.1755 - val_accuracy: 0.3333\n",
            "Epoch 47/100\n",
            "1/1 [==============================] - 1s 711ms/step - loss: 5.6293e-05 - accuracy: 1.0000 - val_loss: 1.1763 - val_accuracy: 0.3333\n",
            "Epoch 48/100\n",
            "1/1 [==============================] - 1s 727ms/step - loss: 6.1529e-05 - accuracy: 1.0000 - val_loss: 1.1770 - val_accuracy: 0.3333\n",
            "Epoch 49/100\n",
            "1/1 [==============================] - 1s 726ms/step - loss: 7.3483e-05 - accuracy: 1.0000 - val_loss: 1.1776 - val_accuracy: 0.3333\n",
            "Epoch 50/100\n",
            "1/1 [==============================] - 1s 725ms/step - loss: 4.7212e-05 - accuracy: 1.0000 - val_loss: 1.1782 - val_accuracy: 0.3333\n",
            "Epoch 51/100\n",
            "1/1 [==============================] - 1s 959ms/step - loss: 6.3865e-05 - accuracy: 1.0000 - val_loss: 1.1787 - val_accuracy: 0.3333\n",
            "Epoch 52/100\n",
            "1/1 [==============================] - 1s 1s/step - loss: 5.5221e-05 - accuracy: 1.0000 - val_loss: 1.1792 - val_accuracy: 0.3333\n",
            "Epoch 53/100\n",
            "1/1 [==============================] - 1s 777ms/step - loss: 5.7778e-05 - accuracy: 1.0000 - val_loss: 1.1796 - val_accuracy: 0.3333\n",
            "Epoch 54/100\n",
            "1/1 [==============================] - 1s 714ms/step - loss: 4.9636e-05 - accuracy: 1.0000 - val_loss: 1.1800 - val_accuracy: 0.3333\n",
            "Epoch 55/100\n",
            "1/1 [==============================] - 1s 717ms/step - loss: 6.0155e-05 - accuracy: 1.0000 - val_loss: 1.1804 - val_accuracy: 0.3333\n",
            "Epoch 56/100\n",
            "1/1 [==============================] - 1s 724ms/step - loss: 5.9202e-05 - accuracy: 1.0000 - val_loss: 1.1807 - val_accuracy: 0.3333\n",
            "Epoch 57/100\n",
            "1/1 [==============================] - 1s 702ms/step - loss: 5.3767e-05 - accuracy: 1.0000 - val_loss: 1.1811 - val_accuracy: 0.3333\n",
            "Epoch 58/100\n",
            "1/1 [==============================] - 1s 745ms/step - loss: 3.5992e-05 - accuracy: 1.0000 - val_loss: 1.1814 - val_accuracy: 0.3333\n",
            "Epoch 59/100\n",
            "1/1 [==============================] - 1s 725ms/step - loss: 4.4987e-05 - accuracy: 1.0000 - val_loss: 1.1816 - val_accuracy: 0.3333\n",
            "Epoch 60/100\n",
            "1/1 [==============================] - 1s 706ms/step - loss: 4.7680e-05 - accuracy: 1.0000 - val_loss: 1.1819 - val_accuracy: 0.3333\n",
            "Epoch 61/100\n",
            "1/1 [==============================] - 1s 709ms/step - loss: 3.6580e-05 - accuracy: 1.0000 - val_loss: 1.1821 - val_accuracy: 0.3333\n",
            "Epoch 62/100\n",
            "1/1 [==============================] - 1s 1s/step - loss: 4.7736e-05 - accuracy: 1.0000 - val_loss: 1.1822 - val_accuracy: 0.3333\n",
            "Epoch 63/100\n",
            "1/1 [==============================] - 1s 715ms/step - loss: 4.2317e-05 - accuracy: 1.0000 - val_loss: 1.1823 - val_accuracy: 0.3333\n",
            "Epoch 64/100\n",
            "1/1 [==============================] - 1s 727ms/step - loss: 3.9639e-05 - accuracy: 1.0000 - val_loss: 1.1825 - val_accuracy: 0.3333\n",
            "Epoch 65/100\n",
            "1/1 [==============================] - 1s 715ms/step - loss: 3.3202e-05 - accuracy: 1.0000 - val_loss: 1.1825 - val_accuracy: 0.3333\n",
            "Epoch 66/100\n",
            "1/1 [==============================] - 1s 765ms/step - loss: 4.1403e-05 - accuracy: 1.0000 - val_loss: 1.1828 - val_accuracy: 0.3333\n",
            "Epoch 67/100\n",
            "1/1 [==============================] - 1s 738ms/step - loss: 4.1849e-05 - accuracy: 1.0000 - val_loss: 1.1830 - val_accuracy: 0.3333\n",
            "Epoch 68/100\n",
            "1/1 [==============================] - 1s 720ms/step - loss: 3.3918e-05 - accuracy: 1.0000 - val_loss: 1.1831 - val_accuracy: 0.3333\n",
            "Epoch 69/100\n",
            "1/1 [==============================] - 1s 709ms/step - loss: 2.9785e-05 - accuracy: 1.0000 - val_loss: 1.1833 - val_accuracy: 0.3333\n",
            "Epoch 70/100\n",
            "1/1 [==============================] - 1s 733ms/step - loss: 3.6977e-05 - accuracy: 1.0000 - val_loss: 1.1835 - val_accuracy: 0.3333\n",
            "Epoch 71/100\n",
            "1/1 [==============================] - 1s 1s/step - loss: 3.1676e-05 - accuracy: 1.0000 - val_loss: 1.1837 - val_accuracy: 0.3333\n",
            "Epoch 72/100\n",
            "1/1 [==============================] - 1s 689ms/step - loss: 3.3815e-05 - accuracy: 1.0000 - val_loss: 1.1840 - val_accuracy: 0.3333\n",
            "Epoch 73/100\n",
            "1/1 [==============================] - 1s 748ms/step - loss: 3.4458e-05 - accuracy: 1.0000 - val_loss: 1.1843 - val_accuracy: 0.3333\n",
            "Epoch 74/100\n",
            "1/1 [==============================] - 1s 745ms/step - loss: 3.1152e-05 - accuracy: 1.0000 - val_loss: 1.1845 - val_accuracy: 0.3333\n",
            "Epoch 75/100\n",
            "1/1 [==============================] - 1s 710ms/step - loss: 3.8686e-05 - accuracy: 1.0000 - val_loss: 1.1847 - val_accuracy: 0.3333\n",
            "Epoch 76/100\n",
            "1/1 [==============================] - 1s 718ms/step - loss: 3.4196e-05 - accuracy: 1.0000 - val_loss: 1.1850 - val_accuracy: 0.3333\n",
            "Epoch 77/100\n",
            "1/1 [==============================] - 1s 736ms/step - loss: 4.0426e-05 - accuracy: 1.0000 - val_loss: 1.1853 - val_accuracy: 0.3333\n",
            "Epoch 78/100\n",
            "1/1 [==============================] - 1s 722ms/step - loss: 2.8490e-05 - accuracy: 1.0000 - val_loss: 1.1856 - val_accuracy: 0.3333\n",
            "Epoch 79/100\n",
            "1/1 [==============================] - 1s 731ms/step - loss: 3.5038e-05 - accuracy: 1.0000 - val_loss: 1.1860 - val_accuracy: 0.3333\n",
            "Epoch 80/100\n",
            "1/1 [==============================] - 1s 859ms/step - loss: 3.5499e-05 - accuracy: 1.0000 - val_loss: 1.1864 - val_accuracy: 0.3333\n",
            "Epoch 81/100\n",
            "1/1 [==============================] - 1s 1s/step - loss: 2.2530e-05 - accuracy: 1.0000 - val_loss: 1.1868 - val_accuracy: 0.3333\n",
            "Epoch 82/100\n",
            "1/1 [==============================] - 1s 733ms/step - loss: 3.4212e-05 - accuracy: 1.0000 - val_loss: 1.1872 - val_accuracy: 0.3333\n",
            "Epoch 83/100\n",
            "1/1 [==============================] - 1s 725ms/step - loss: 3.3226e-05 - accuracy: 1.0000 - val_loss: 1.1878 - val_accuracy: 0.3333\n",
            "Epoch 84/100\n",
            "1/1 [==============================] - 1s 756ms/step - loss: 2.6798e-05 - accuracy: 1.0000 - val_loss: 1.1883 - val_accuracy: 0.3333\n",
            "Epoch 85/100\n",
            "1/1 [==============================] - 1s 723ms/step - loss: 2.8458e-05 - accuracy: 1.0000 - val_loss: 1.1888 - val_accuracy: 0.3333\n",
            "Epoch 86/100\n",
            "1/1 [==============================] - 1s 895ms/step - loss: 3.6047e-05 - accuracy: 1.0000 - val_loss: 1.1894 - val_accuracy: 0.6667\n",
            "Epoch 87/100\n",
            "1/1 [==============================] - 1s 701ms/step - loss: 3.4617e-05 - accuracy: 1.0000 - val_loss: 1.1900 - val_accuracy: 0.6667\n",
            "Epoch 88/100\n",
            "1/1 [==============================] - 1s 710ms/step - loss: 2.7974e-05 - accuracy: 1.0000 - val_loss: 1.1907 - val_accuracy: 0.6667\n",
            "Epoch 89/100\n",
            "1/1 [==============================] - 1s 734ms/step - loss: 3.2805e-05 - accuracy: 1.0000 - val_loss: 1.1914 - val_accuracy: 0.6667\n",
            "Epoch 90/100\n",
            "1/1 [==============================] - 1s 734ms/step - loss: 2.7767e-05 - accuracy: 1.0000 - val_loss: 1.1922 - val_accuracy: 0.3333\n",
            "Epoch 91/100\n",
            "1/1 [==============================] - 1s 1s/step - loss: 2.7091e-05 - accuracy: 1.0000 - val_loss: 1.1931 - val_accuracy: 0.3333\n",
            "Epoch 92/100\n",
            "1/1 [==============================] - 1s 1s/step - loss: 3.2169e-05 - accuracy: 1.0000 - val_loss: 1.1940 - val_accuracy: 0.3333\n",
            "Epoch 93/100\n",
            "1/1 [==============================] - 1s 892ms/step - loss: 2.8689e-05 - accuracy: 1.0000 - val_loss: 1.1949 - val_accuracy: 0.3333\n",
            "Epoch 94/100\n",
            "1/1 [==============================] - 1s 699ms/step - loss: 2.5613e-05 - accuracy: 1.0000 - val_loss: 1.1959 - val_accuracy: 0.3333\n",
            "Epoch 95/100\n",
            "1/1 [==============================] - 1s 704ms/step - loss: 2.6019e-05 - accuracy: 1.0000 - val_loss: 1.1969 - val_accuracy: 0.3333\n",
            "Epoch 96/100\n",
            "1/1 [==============================] - 1s 726ms/step - loss: 3.1764e-05 - accuracy: 1.0000 - val_loss: 1.1979 - val_accuracy: 0.3333\n",
            "Epoch 97/100\n",
            "1/1 [==============================] - 1s 734ms/step - loss: 2.0218e-05 - accuracy: 1.0000 - val_loss: 1.1991 - val_accuracy: 0.3333\n",
            "Epoch 98/100\n",
            "1/1 [==============================] - 1s 721ms/step - loss: 2.5836e-05 - accuracy: 1.0000 - val_loss: 1.2002 - val_accuracy: 0.3333\n",
            "Epoch 99/100\n",
            "1/1 [==============================] - 1s 698ms/step - loss: 2.4533e-05 - accuracy: 1.0000 - val_loss: 1.2014 - val_accuracy: 0.3333\n",
            "Epoch 100/100\n",
            "1/1 [==============================] - 1s 733ms/step - loss: 2.2904e-05 - accuracy: 1.0000 - val_loss: 1.2027 - val_accuracy: 0.3333\n",
            "1/1 [==============================] - 0s 55ms/step - loss: 1.1984 - accuracy: 0.3333\n",
            "Test accuracy: 33.33%\n"
          ]
        }
      ],
      "source": [
        "#Train optimized architecture\n",
        "history, conv_mixer_model = launch_experiment(model)"
      ]
    },
    {
      "cell_type": "code",
      "execution_count": 15,
      "id": "7a90dba9",
      "metadata": {
        "colab": {
          "base_uri": "https://localhost:8080/"
        },
        "id": "7a90dba9",
        "outputId": "e5349b39-42be-4297-faa9-b8110ef28573"
      },
      "outputs": [
        {
          "name": "stderr",
          "output_type": "stream",
          "text": [
            "/usr/local/lib/python3.10/dist-packages/keras/src/engine/training.py:3103: UserWarning: You are saving your model as an HDF5 file via `model.save()`. This file format is considered legacy. We recommend using instead the native Keras format, e.g. `model.save('my_model.keras')`.\n",
            "  saving_api.save_model(\n"
          ]
        }
      ],
      "source": [
        "#Save model\n",
        "model_path = '/content/Minape/models_rep'\n",
        "conv_mixer_model.save(f\"{model_path}/tool_aug_tool_opt.h5\")"
      ]
    },
    {
      "cell_type": "code",
      "execution_count": 16,
      "id": "f2aae39d",
      "metadata": {
        "colab": {
          "base_uri": "https://localhost:8080/",
          "height": 472
        },
        "id": "f2aae39d",
        "outputId": "52862985-d81c-487d-d8e7-cf2843131426"
      },
      "outputs": [
        {
          "data": {
            "image/png": "[encoded data removed]",
            "text/plain": [
              "<Figure size 640x480 with 1 Axes>"
            ]
          },
          "metadata": {},
          "output_type": "display_data"
        }
      ],
      "source": [
        "#Plot accuracy history\n",
        "plt.plot(history.history['accuracy'])\n",
        "plt.plot(history.history['val_accuracy'])\n",
        "plt.title('model accuracy')\n",
        "plt.ylabel('accuracy')\n",
        "plt.xlabel('epoch')\n",
        "plt.legend(['train', 'val'], loc='upper left')\n",
        "plt.show()"
      ]
    },
    {
      "cell_type": "code",
      "execution_count": 18,
      "id": "KPxYQ6MlpjMh",
      "metadata": {
        "colab": {
          "base_uri": "https://localhost:8080/",
          "height": 472
        },
        "id": "KPxYQ6MlpjMh",
        "outputId": "c0bd1f87-e06e-4af8-d516-cd40d1b7a3a7"
      },
      "outputs": [
        {
          "data": {
            "image/png": "[encoded data removed]",
            "text/plain": [
              "<Figure size 640x480 with 1 Axes>"
            ]
          },
          "metadata": {},
          "output_type": "display_data"
        }
      ],
      "source": [
        "#Plot loss history\n",
        "plt.plot(history.history['loss'])\n",
        "plt.plot(history.history['val_loss'])\n",
        "plt.title('model loss')\n",
        "plt.ylabel('loss')\n",
        "plt.xlabel('epoch')\n",
        "plt.legend(['train', 'val'], loc='upper left')\n",
        "plt.show()"
      ]
    }
  ],
  "metadata": {
    "colab": {
      "provenance": []
    },
    "kernelspec": {
      "display_name": "Python 3 (ipykernel)",
      "language": "python",
      "name": "python3"
    },
    "language_info": {
      "codemirror_mode": {
        "name": "ipython",
        "version": 3
      },
      "file_extension": ".py",
      "mimetype": "text/x-python",
      "name": "python",
      "nbconvert_exporter": "python",
      "pygments_lexer": "ipython3",
      "version": "3.9.15"
    }
  },
  "nbformat": 4,
  "nbformat_minor": 5
}
